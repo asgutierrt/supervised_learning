{
 "cells": [
  {
   "cell_type": "code",
   "execution_count": 5,
   "metadata": {},
   "outputs": [],
   "source": [
    "import numpy as np\n",
    "import pandas as pd\n",
    "import seaborn as sns\n",
    "import plotly.express as px\n",
    "import matplotlib.pyplot as plt"
   ]
  },
  {
   "cell_type": "code",
   "execution_count": 6,
   "metadata": {},
   "outputs": [
    {
     "data": {
      "text/plain": [
       "array([[-1.59073305e+01,  7.50615086e-01, -2.45027179e+00, ...,\n",
       "        -4.94813658e-02, -2.10029179e+00, -3.53491005e-01],\n",
       "       [-1.66524123e+01,  1.81937816e+00, -2.48991813e+00, ...,\n",
       "         5.67126339e-01, -9.28262956e-01, -2.00485254e+00],\n",
       "       [ 1.77451046e+00,  1.11277416e+02,  7.80310882e-01, ...,\n",
       "        -4.79171454e-02,  1.29297570e+00,  2.25466367e+00],\n",
       "       ...,\n",
       "       [-2.70202977e+00,  3.12596645e+00,  2.29274778e+00, ...,\n",
       "        -9.26308159e-01, -9.59544746e+00,  1.78096848e+00],\n",
       "       [-1.17468557e+01,  1.29151823e+00,  8.12038389e-01, ...,\n",
       "        -1.07044727e+00, -3.43118785e-01,  2.47431857e+00],\n",
       "       [ 7.99562607e+00,  1.27696770e+00, -3.10831072e-01, ...,\n",
       "         2.82310401e+00,  8.84646649e-01, -3.36399103e+00]])"
      ]
     },
     "execution_count": 6,
     "metadata": {},
     "output_type": "execute_result"
    }
   ],
   "source": [
    "import src.random_data_generator as rdg\n",
    "\n",
    "rdg.generate_random_points(100, 50, 0, 1, 2)"
   ]
  },
  {
   "cell_type": "markdown",
   "metadata": {},
   "source": [
    "box muller"
   ]
  },
  {
   "cell_type": "code",
   "execution_count": 7,
   "metadata": {},
   "outputs": [],
   "source": [
    "def exp_q(x: np.array, q: float) -> np.array:\n",
    "    return (1 + (1 - q) * x) ** (1 /(1 - q))\n",
    "\n",
    "def A_q_func(q: float) -> float:\n",
    "    if q == 1:\n",
    "        return np.sqrt(2 * np.pi)\n",
    "    elif 1 < q < 3:\n",
    "        return np.sqrt((3 - q)/(q - 1)) * np.random.beta((3 - q)/(2 * (q - 1)), 1/2)\n",
    "    \n",
    "def f_q(q: int, x:np.array, mu: float, sigma: float) -> np.array:\n",
    "    return (1 / A_q_func(q)) * exp_q(-((x - mu)**2/((3 - q) * sigma**2)), q)"
   ]
  },
  {
   "cell_type": "code",
   "execution_count": 8,
   "metadata": {},
   "outputs": [],
   "source": [
    "def ln_q(x: np.array, q: float) -> np.array:\n",
    "    result = np.zeros(x.size)\n",
    "    for ind in range(x.size):\n",
    "        if x[ind] <= 0:\n",
    "            print(\"Undefined: There is a number less than or equal to 0\")\n",
    "            break\n",
    "        elif x[ind] > 0 and q == 1:\n",
    "            result[ind] = np.log(x[ind])\n",
    "        elif x[ind] > 0 and q != 1:\n",
    "            result[ind] = (x[ind] ** (1-q) - 1) / (1 - q)\n",
    "        else:\n",
    "            print(\"The conditions were not met\")\n",
    "\n",
    "    return result\n",
    "\n",
    "def box_muller(mu: float, sigma: float, q: float, size: int) -> np.array:\n",
    "    U1 = np.random.uniform(0, 1, size)\n",
    "    U2 = np.random.uniform(0, 1, size)\n",
    "\n",
    "    q_prime = (1 + q) / (3 - q)\n",
    "    beta = 1 / (2 * sigma ** 2)\n",
    "\n",
    "    Z = np.sqrt(-2*ln_q(U1, q_prime)) * np.cos(2 * np.pi * U2)\n",
    "\n",
    "    Z_prime = mu + Z / (np.sqrt(beta * (3-q)))\n",
    "\n",
    "    return Z_prime\n",
    "\n",
    "def random_q_gaussian(mu: float, sigma: float, q: float, size: int):\n",
    "    if q == 1:\n",
    "        return np.random.normal(mu, sigma, size)\n",
    "    elif 1 < q < 3:\n",
    "        return mu + sigma * np.sqrt(2/(3 - q)) * np.random.standard_t((1+q)/(3-q), size)\n",
    "    else:\n",
    "        raise(\"Invalid value for q\")"
   ]
  },
  {
   "cell_type": "code",
   "execution_count": 9,
   "metadata": {},
   "outputs": [],
   "source": [
    "def mu_hat(x: np.matrix) -> np.array:\n",
    "    return x.mean(axis=1)\n",
    "\n",
    "def sigma_hat(x: np.matrix) -> np.array:\n",
    "    return x.std(axis=1)\n",
    "\n",
    "def q_fisher(sigma: np.array, q: float) -> np.array:\n",
    "    A_q = A_q_func(q)\n",
    "    q_fisher_matrix = []\n",
    "    for i in range(sigma.size):\n",
    "        matrix = np.zeros((2, 2))\n",
    "        matrix[0, 0] = 2/((3-q) * (A_q ** (1 -q)) * (sigma[i] ** (3 - q)))\n",
    "        matrix[1, 1] = 2/((A_q ** (1 -q)) * (sigma[i] ** (3 - q)))\n",
    "        q_fisher_matrix.append(matrix)\n",
    "\n",
    "    return np.array(q_fisher_matrix)"
   ]
  },
  {
   "cell_type": "code",
   "execution_count": 10,
   "metadata": {},
   "outputs": [],
   "source": [
    "Z1 = random_q_gaussian(0, np.sqrt(1/(2 * 1)), 1, 10000)\n",
    "Z2 = random_q_gaussian(0, np.sqrt(1/(2 * 1)), 2, 10000)\n",
    "Z3 = random_q_gaussian(0, np.sqrt(1/(2 * 3)), 2, 10000)"
   ]
  },
  {
   "cell_type": "code",
   "execution_count": 11,
   "metadata": {},
   "outputs": [
    {
     "data": {
      "text/plain": [
       "[<matplotlib.lines.Line2D at 0x1296ef5d0>]"
      ]
     },
     "execution_count": 11,
     "metadata": {},
     "output_type": "execute_result"
    },
    {
     "data": {
      "image/png": "[encoded data removed]",
      "text/plain": [
       "<Figure size 640x480 with 1 Axes>"
      ]
     },
     "metadata": {},
     "output_type": "display_data"
    }
   ],
   "source": [
    "# sort the data in ascending order \n",
    "Z1_ordered = np.sort(Z1)\n",
    "Z2_ordered = np.sort(Z2)\n",
    "Z3_ordered = np.sort(Z3)\n",
    "  \n",
    "# get the cdf values of y \n",
    "y = np.arange(10000) / float(10000)\n",
    "  \n",
    "# plotting \n",
    "plt.xlabel('x-axis')\n",
    "plt.ylabel('y-axis')\n",
    "  \n",
    "plt.title('CDF using sorting the data') \n",
    "  \n",
    "plt.plot(Z1_ordered, y)\n",
    "plt.plot(Z2_ordered, y)\n",
    "plt.plot(Z3_ordered, y) "
   ]
  },
  {
   "cell_type": "code",
   "execution_count": 19,
   "metadata": {},
   "outputs": [
    {
     "data": {
      "text/plain": [
       "[Text(0.5, 1.0, 'Kernel density estimation')]"
      ]
     },
     "execution_count": 19,
     "metadata": {},
     "output_type": "execute_result"
    },
    {
     "data": {
      "image/png": "[encoded data removed]",
      "text/plain": [
       "<Figure size 1600x800 with 1 Axes>"
      ]
     },
     "metadata": {},
     "output_type": "display_data"
    }
   ],
   "source": [
    "fig, ax = plt.subplots(figsize=(16, 8))\n",
    "sns.kdeplot(Z1, label=f\"q={1}, beta={1}\")\n",
    "sns.kdeplot(Z2, label=f\"q={2}, beta={1}\")\n",
    "sns.kdeplot(Z3, label=f\"q={2}, beta={3}\")\n",
    "plt.xlim(-4, 4)\n",
    "plt.legend()\n",
    "ax.set(title=\"Kernel density estimation\")"
   ]
  },
  {
   "cell_type": "code",
   "execution_count": 13,
   "metadata": {},
   "outputs": [],
   "source": [
    "# from scipy.stats import kstest, jarque_bera\n",
    "\n",
    "# #perform Kolmogorov-Smirnov test\n",
    "# print(kstest(Z, 'norm'),\n",
    "#       jarque_bera(Z),\n",
    "#       sep=\"\\n\")"
   ]
  },
  {
   "cell_type": "code",
   "execution_count": 14,
   "metadata": {},
   "outputs": [],
   "source": [
    "dimension = 50\n",
    "num_points = 100\n",
    "\n",
    "F_1 = np.zeros((num_points, dimension))\n",
    "F_2 = np.zeros((num_points, dimension))\n",
    "for i in range(100):\n",
    "    F_1[i, :] = box_muller(mu=0, sigma=1, q=2, size=50)\n",
    "    F_2[i, :] = box_muller(mu=2, sigma=2, q=2, size=50)\n",
    "\n",
    "family_1 = pd.DataFrame({\"mu_hat\": mu_hat(F_1), \"sigma_hat\": sigma_hat(F_1), \"label\": [1]*num_points})\n",
    "family_2 = pd.DataFrame({\"mu_hat\": mu_hat(F_2), \"sigma_hat\": sigma_hat(F_2), \"label\": [2]*num_points})\n",
    "df = pd.concat([family_1, family_2], axis=0, ignore_index=True)\n",
    "df[\"label\"] = df[\"label\"].astype(str)"
   ]
  },
  {
   "cell_type": "code",
   "execution_count": 15,
   "metadata": {},
   "outputs": [
    {
     "data": {
      "application/vnd.plotly.v1+json": {
       "config": {
        "plotlyServerURL": "https://plot.ly"
       },
       "data": [
        {
         "hovertemplate": "label=1<br>mu_hat=%{x}<br>sigma_hat=%{y}<extra></extra>",
         "legendgroup": "1",
         "marker": {
          "color": "blue",
          "symbol": "circle"
         },
         "mode": "markers",
         "name": "1",
         "orientation": "v",
         "showlegend": true,
         "type": "scatter",
         "x": [
          -0.0018771071629849034,
          4.457425571954738,
          0.1896757473399545,
          11.495034812887093,
          -1.232007813973011,
          -1.9795615248005454,
          0.00010734505293996666,
          1.5319874380861607,
          -0.03976596341723496,
          1.1418446206014499,
          0.6053490552480131,
          0.5915988787494153,
          2.812033473485006,
          5.22105376134807,
          -1.6181405926985144,
          3.6267292265314377,
          -1.3763759678761094,
          3.291573241910888,
          7.158773955400224,
          -6.069288241346455,
          -171.48826508968207,
          2.9185810080653942,
          0.015812590651321373,
          -1.0434262824003704,
          -0.07445357275491418,
          -8.990563634490787,
          35.63278616594443,
          1.1285138714463914,
          -0.6351791712899889,
          -0.6101747500071919,
          -3.8574053230179266,
          -2.822951176734033,
          -0.11049767488975064,
          -1.5812118929800252,
          -7.2333626310184,
          -0.13002271116464287,
          -0.6396071749853582,
          -2.4757723845453863,
          10.378216839790795,
          74.52939329180658,
          0.06797205781405223,
          2.184847483903767,
          -0.14869133700906612,
          0.9744980464571159,
          2.52053687018797,
          0.43107428448703417,
          7.20613558462931,
          0.701308691889756,
          -1.1910339958786675,
          3.3271667458599734,
          -0.5699478888269703,
          9.334835423362358,
          1.444203241693304,
          -8.646372171239868,
          -0.3190199828980939,
          -0.8655968929896736,
          -7.589078280923331,
          0.5355439174320039,
          -19.926878962978744,
          0.10031554715170704,
          -1.3643728675290552,
          1.058398203912427,
          1.262321214462121,
          1.8945723258690117,
          3.468201356047577,
          -0.46370246000324683,
          -0.6756161640968472,
          2.6530475071608297,
          0.2736694887646042,
          -0.43898954287040814,
          -0.3109787344838035,
          4.5401137930158955,
          -0.5414412541269089,
          -21.644502536463406,
          -2.603406308342679,
          1.4814984400015745,
          -0.9887048863445631,
          -1.6700351827119413,
          1.268360409180445,
          -4.148328994965556,
          0.833835436363197,
          -0.5810299160319964,
          1.1817782664586511,
          6.539227504994484,
          0.45056744651354613,
          81.2638683361202,
          1.6854916925474959,
          5.175756411154228,
          -0.3895539329439343,
          -0.18965075601093992,
          0.12634793892811108,
          -0.40495577927913984,
          0.36065556212065714,
          -0.20806862126457193,
          2.2870095308614693,
          1.2793273376350334,
          0.18531760602952838,
          2.9157896603589855,
          16.39046028663298,
          1.958193934851928
         ],
         "xaxis": "x",
         "y": [
          7.007382044571872,
          22.395693452275964,
          2.9900613027482166,
          54.99157175739321,
          8.82259648561493,
          13.295713165336728,
          2.0895321543911707,
          6.004379212443058,
          8.680225901615604,
          18.685398898606,
          7.028684808809992,
          16.21964070317389,
          8.924859707297834,
          33.406942226369765,
          13.71036505889739,
          21.728069109227423,
          10.560242978049727,
          24.506640370612462,
          43.36807222662879,
          26.106593371543017,
          1232.962700910254,
          12.376160207479158,
          5.971005531903738,
          24.799209927887066,
          5.032740664881769,
          65.9438795396468,
          187.91871902393214,
          6.50584247328522,
          4.5098144595265675,
          6.808147527362115,
          14.301987145476266,
          14.184448785741573,
          5.103381132563867,
          6.621901130744892,
          41.93351948964588,
          11.987811532499972,
          5.055606573551522,
          17.83616816474141,
          69.2816877069507,
          526.0302177737933,
          7.394822909296802,
          7.5903627841114805,
          16.061549478973557,
          5.876439086161669,
          21.107929715754604,
          3.3010608224191587,
          70.51514809895978,
          6.912711899826211,
          15.261047931010012,
          28.187510207011684,
          6.665373920724315,
          56.918816093092616,
          18.967068020494157,
          36.83082607142301,
          5.5463598969431995,
          4.027581219390163,
          66.45125191094719,
          16.960545510854924,
          131.59515724485627,
          14.439043097080328,
          19.08213117960627,
          10.360784630630777,
          12.942072465664927,
          42.02726905245982,
          12.066840601130936,
          3.1491544971376713,
          7.337291570585515,
          19.233513043718272,
          3.815710787005244,
          9.372496082546688,
          4.778388425007728,
          29.108268294519842,
          4.559058605963906,
          161.87486877478406,
          32.15021485293162,
          6.011260913726367,
          5.216364722798422,
          5.021218555417179,
          11.599498298519446,
          107.74823709564966,
          6.7844564166457815,
          8.06352786943001,
          6.842898290699009,
          48.16693715161515,
          9.265338392920432,
          556.7198562111147,
          6.464951174941552,
          37.63580254704562,
          17.28422237741296,
          7.100109604614569,
          5.680509506355617,
          4.008070134151972,
          2.6154913337502457,
          3.435371805030379,
          9.335191580735497,
          20.61413855727095,
          4.498596904839943,
          30.47121643731793,
          100.77343064978845,
          12.826890429227204
         ],
         "yaxis": "y"
        },
        {
         "hovertemplate": "label=2<br>mu_hat=%{x}<br>sigma_hat=%{y}<extra></extra>",
         "legendgroup": "2",
         "marker": {
          "color": "red",
          "symbol": "x"
         },
         "mode": "markers",
         "name": "2",
         "orientation": "v",
         "showlegend": true,
         "type": "scatter",
         "x": [
          7.792398969034681,
          -83.49439206192594,
          3.2950455242630468,
          -4.10583614092944,
          -3.2579066096394316,
          -10.169582868386076,
          2.470496419512558,
          -8.797673058314256,
          -10.159321128150358,
          8.011190380929094,
          -22.74703037491352,
          -1.5794468694183201,
          1.858975772122418,
          -4.140861374877834,
          -166.30533701056208,
          1.7010321197927576,
          18.836925486874257,
          4.124416199494984,
          9.416243669561982,
          1.0084636747171587,
          12.348346622901353,
          2.954075205187907,
          128.6556319887761,
          -12.504171067505844,
          6.726433693672043,
          1.2304296870794247,
          0.30087721584918836,
          4.617782222383432,
          2.8864192788478253,
          -12.027776744457638,
          3.644735051172413,
          1.367058384682292,
          6.32370650896775,
          -6.542253381248679,
          0.7745447451797217,
          2.9474853081088166,
          1.7093400739952016,
          -2.9833559375675867,
          39.685050487560645,
          3.4511860197436595,
          6.006598442991847,
          73.9631145315801,
          4.165825587447812,
          -36.44286055956587,
          -12.057040820554867,
          2.790384567826749,
          5.784278532133905,
          1.7252504780956972,
          2.724962218975307,
          2.8113038254682134,
          -93.99523830742564,
          1.8537589719697645,
          -3.826222082315306,
          -1.9170825200321007,
          4.6387431986038115,
          2.563852702081921,
          -49.149784966213645,
          5.3789822748698475,
          5.241418565238502,
          0.49463147566498905,
          1.3200285135604497,
          20.43134006861256,
          13.284306078289056,
          26.58332072246561,
          2.7111358681889293,
          -3.0117303286252852,
          23.231665215277065,
          3.302357150938745,
          -0.01405605951490415,
          1.9885951080048416,
          2.535637853093414,
          18.223469927485663,
          1.5287031040634136,
          5.13826722562222,
          2.113138444197945,
          -4.0043723595867275,
          -0.9457688652049546,
          4.295498429494304,
          4.278698386472599,
          5.334644750291485,
          1.0278069730076265,
          2.970896142437506,
          1.1510476235871443,
          22.811597457765515,
          6.56399505081917,
          -1.1491202118599964,
          0.48997313710768453,
          -0.4269400866477037,
          3.383411588997943,
          3.1462022003053853,
          74.60395837195,
          12.699294256234614,
          1.975927628534007,
          -11.347407819587948,
          -8.301364405591308,
          2.173629352781631,
          -1.6557774623621213,
          -1.9660275602691781,
          1.5040554860596334,
          -2.7101881822804446
         ],
         "xaxis": "x",
         "y": [
          25.027895124689273,
          557.9807452502511,
          8.989720169794499,
          58.78247925292166,
          14.244188530742903,
          103.15934724671136,
          16.13534555753006,
          58.865663381117606,
          72.05438427972261,
          30.945069636988702,
          136.58534388433725,
          12.746292872481979,
          19.977866525600582,
          21.86685663632903,
          1166.8480255234401,
          9.760872213760152,
          114.23877502083613,
          8.677094091997535,
          43.14369103673368,
          17.774724721817243,
          75.45952851415086,
          7.12731539339668,
          845.5930608550949,
          90.96586094928004,
          25.28456472556667,
          14.202488315917497,
          14.044404503806922,
          27.86413818341424,
          20.28636532843338,
          94.23073976761123,
          11.417098553905406,
          7.30682786059765,
          18.21858886192178,
          59.22586443012426,
          12.846513389631088,
          16.268002836461264,
          15.331800964116537,
          27.602552728209098,
          262.17478846394425,
          10.04570356747552,
          38.84219789874771,
          475.8510378117352,
          22.296942259682837,
          192.10354000339842,
          95.11727598973825,
          11.0370781321908,
          15.090700429358183,
          8.485550479928488,
          12.82889257017489,
          51.887963018207934,
          689.8023992549691,
          6.639771330298647,
          36.42033951553297,
          28.725435238048874,
          20.214110858110722,
          11.918826450896258,
          348.86421961758583,
          21.63983978533962,
          22.14037527362424,
          8.339096472626943,
          40.44623620084499,
          107.23223469094215,
          89.70359405085134,
          154.41320206000535,
          8.66528418294288,
          24.190860009477728,
          141.79681046929142,
          17.174515483909715,
          10.763501997944845,
          6.278578458334091,
          14.636526663454088,
          97.22897145494434,
          15.01423393739643,
          18.03405229897683,
          7.723442706898455,
          25.3766717818029,
          11.585393169658051,
          13.238114399900969,
          15.06394337267337,
          28.095235203955596,
          8.033090197106524,
          9.369200173538356,
          36.584724893061086,
          158.84200954874277,
          13.651002071262624,
          29.338076663101745,
          21.48023229110523,
          45.35943316788595,
          11.218464454529755,
          5.863976797671644,
          524.4817996672828,
          75.13097834157493,
          5.792037230417736,
          46.79500018234323,
          46.6781442568663,
          8.461005147279977,
          36.03190656130374,
          39.07176286373326,
          13.226275382867279,
          23.33220846500582
         ],
         "yaxis": "y"
        }
       ],
       "layout": {
        "legend": {
         "title": {
          "text": "label"
         },
         "tracegroupgap": 0
        },
        "margin": {
         "t": 60
        },
        "plot_bgcolor": "white",
        "template": {
         "data": {
          "bar": [
           {
            "error_x": {
             "color": "#2a3f5f"
            },
            "error_y": {
             "color": "#2a3f5f"
            },
            "marker": {
             "line": {
              "color": "#E5ECF6",
              "width": 0.5
             },
             "pattern": {
              "fillmode": "overlay",
              "size": 10,
              "solidity": 0.2
             }
            },
            "type": "bar"
           }
          ],
          "barpolar": [
           {
            "marker": {
             "line": {
              "color": "#E5ECF6",
              "width": 0.5
             },
             "pattern": {
              "fillmode": "overlay",
              "size": 10,
              "solidity": 0.2
             }
            },
            "type": "barpolar"
           }
          ],
          "carpet": [
           {
            "aaxis": {
             "endlinecolor": "#2a3f5f",
             "gridcolor": "white",
             "linecolor": "white",
             "minorgridcolor": "white",
             "startlinecolor": "#2a3f5f"
            },
            "baxis": {
             "endlinecolor": "#2a3f5f",
             "gridcolor": "white",
             "linecolor": "white",
             "minorgridcolor": "white",
             "startlinecolor": "#2a3f5f"
            },
            "type": "carpet"
           }
          ],
          "choropleth": [
           {
            "colorbar": {
             "outlinewidth": 0,
             "ticks": ""
            },
            "type": "choropleth"
           }
          ],
          "contour": [
           {
            "colorbar": {
             "outlinewidth": 0,
             "ticks": ""
            },
            "colorscale": [
             [
              0,
              "#0d0887"
             ],
             [
              0.1111111111111111,
              "#46039f"
             ],
             [
              0.2222222222222222,
              "#7201a8"
             ],
             [
              0.3333333333333333,
              "#9c179e"
             ],
             [
              0.4444444444444444,
              "#bd3786"
             ],
             [
              0.5555555555555556,
              "#d8576b"
             ],
             [
              0.6666666666666666,
              "#ed7953"
             ],
             [
              0.7777777777777778,
              "#fb9f3a"
             ],
             [
              0.8888888888888888,
              "#fdca26"
             ],
             [
              1,
              "#f0f921"
             ]
            ],
            "type": "contour"
           }
          ],
          "contourcarpet": [
           {
            "colorbar": {
             "outlinewidth": 0,
             "ticks": ""
            },
            "type": "contourcarpet"
           }
          ],
          "heatmap": [
           {
            "colorbar": {
             "outlinewidth": 0,
             "ticks": ""
            },
            "colorscale": [
             [
              0,
              "#0d0887"
             ],
             [
              0.1111111111111111,
              "#46039f"
             ],
             [
              0.2222222222222222,
              "#7201a8"
             ],
             [
              0.3333333333333333,
              "#9c179e"
             ],
             [
              0.4444444444444444,
              "#bd3786"
             ],
             [
              0.5555555555555556,
              "#d8576b"
             ],
             [
              0.6666666666666666,
              "#ed7953"
             ],
             [
              0.7777777777777778,
              "#fb9f3a"
             ],
             [
              0.8888888888888888,
              "#fdca26"
             ],
             [
              1,
              "#f0f921"
             ]
            ],
            "type": "heatmap"
           }
          ],
          "heatmapgl": [
           {
            "colorbar": {
             "outlinewidth": 0,
             "ticks": ""
            },
            "colorscale": [
             [
              0,
              "#0d0887"
             ],
             [
              0.1111111111111111,
              "#46039f"
             ],
             [
              0.2222222222222222,
              "#7201a8"
             ],
             [
              0.3333333333333333,
              "#9c179e"
             ],
             [
              0.4444444444444444,
              "#bd3786"
             ],
             [
              0.5555555555555556,
              "#d8576b"
             ],
             [
              0.6666666666666666,
              "#ed7953"
             ],
             [
              0.7777777777777778,
              "#fb9f3a"
             ],
             [
              0.8888888888888888,
              "#fdca26"
             ],
             [
              1,
              "#f0f921"
             ]
            ],
            "type": "heatmapgl"
           }
          ],
          "histogram": [
           {
            "marker": {
             "pattern": {
              "fillmode": "overlay",
              "size": 10,
              "solidity": 0.2
             }
            },
            "type": "histogram"
           }
          ],
          "histogram2d": [
           {
            "colorbar": {
             "outlinewidth": 0,
             "ticks": ""
            },
            "colorscale": [
             [
              0,
              "#0d0887"
             ],
             [
              0.1111111111111111,
              "#46039f"
             ],
             [
              0.2222222222222222,
              "#7201a8"
             ],
             [
              0.3333333333333333,
              "#9c179e"
             ],
             [
              0.4444444444444444,
              "#bd3786"
             ],
             [
              0.5555555555555556,
              "#d8576b"
             ],
             [
              0.6666666666666666,
              "#ed7953"
             ],
             [
              0.7777777777777778,
              "#fb9f3a"
             ],
             [
              0.8888888888888888,
              "#fdca26"
             ],
             [
              1,
              "#f0f921"
             ]
            ],
            "type": "histogram2d"
           }
          ],
          "histogram2dcontour": [
           {
            "colorbar": {
             "outlinewidth": 0,
             "ticks": ""
            },
            "colorscale": [
             [
              0,
              "#0d0887"
             ],
             [
              0.1111111111111111,
              "#46039f"
             ],
             [
              0.2222222222222222,
              "#7201a8"
             ],
             [
              0.3333333333333333,
              "#9c179e"
             ],
             [
              0.4444444444444444,
              "#bd3786"
             ],
             [
              0.5555555555555556,
              "#d8576b"
             ],
             [
              0.6666666666666666,
              "#ed7953"
             ],
             [
              0.7777777777777778,
              "#fb9f3a"
             ],
             [
              0.8888888888888888,
              "#fdca26"
             ],
             [
              1,
              "#f0f921"
             ]
            ],
            "type": "histogram2dcontour"
           }
          ],
          "mesh3d": [
           {
            "colorbar": {
             "outlinewidth": 0,
             "ticks": ""
            },
            "type": "mesh3d"
           }
          ],
          "parcoords": [
           {
            "line": {
             "colorbar": {
              "outlinewidth": 0,
              "ticks": ""
             }
            },
            "type": "parcoords"
           }
          ],
          "pie": [
           {
            "automargin": true,
            "type": "pie"
           }
          ],
          "scatter": [
           {
            "fillpattern": {
             "fillmode": "overlay",
             "size": 10,
             "solidity": 0.2
            },
            "type": "scatter"
           }
          ],
          "scatter3d": [
           {
            "line": {
             "colorbar": {
              "outlinewidth": 0,
              "ticks": ""
             }
            },
            "marker": {
             "colorbar": {
              "outlinewidth": 0,
              "ticks": ""
             }
            },
            "type": "scatter3d"
           }
          ],
          "scattercarpet": [
           {
            "marker": {
             "colorbar": {
              "outlinewidth": 0,
              "ticks": ""
             }
            },
            "type": "scattercarpet"
           }
          ],
          "scattergeo": [
           {
            "marker": {
             "colorbar": {
              "outlinewidth": 0,
              "ticks": ""
             }
            },
            "type": "scattergeo"
           }
          ],
          "scattergl": [
           {
            "marker": {
             "colorbar": {
              "outlinewidth": 0,
              "ticks": ""
             }
            },
            "type": "scattergl"
           }
          ],
          "scattermapbox": [
           {
            "marker": {
             "colorbar": {
              "outlinewidth": 0,
              "ticks": ""
             }
            },
            "type": "scattermapbox"
           }
          ],
          "scatterpolar": [
           {
            "marker": {
             "colorbar": {
              "outlinewidth": 0,
              "ticks": ""
             }
            },
            "type": "scatterpolar"
           }
          ],
          "scatterpolargl": [
           {
            "marker": {
             "colorbar": {
              "outlinewidth": 0,
              "ticks": ""
             }
            },
            "type": "scatterpolargl"
           }
          ],
          "scatterternary": [
           {
            "marker": {
             "colorbar": {
              "outlinewidth": 0,
              "ticks": ""
             }
            },
            "type": "scatterternary"
           }
          ],
          "surface": [
           {
            "colorbar": {
             "outlinewidth": 0,
             "ticks": ""
            },
            "colorscale": [
             [
              0,
              "#0d0887"
             ],
             [
              0.1111111111111111,
              "#46039f"
             ],
             [
              0.2222222222222222,
              "#7201a8"
             ],
             [
              0.3333333333333333,
              "#9c179e"
             ],
             [
              0.4444444444444444,
              "#bd3786"
             ],
             [
              0.5555555555555556,
              "#d8576b"
             ],
             [
              0.6666666666666666,
              "#ed7953"
             ],
             [
              0.7777777777777778,
              "#fb9f3a"
             ],
             [
              0.8888888888888888,
              "#fdca26"
             ],
             [
              1,
              "#f0f921"
             ]
            ],
            "type": "surface"
           }
          ],
          "table": [
           {
            "cells": {
             "fill": {
              "color": "#EBF0F8"
             },
             "line": {
              "color": "white"
             }
            },
            "header": {
             "fill": {
              "color": "#C8D4E3"
             },
             "line": {
              "color": "white"
             }
            },
            "type": "table"
           }
          ]
         },
         "layout": {
          "annotationdefaults": {
           "arrowcolor": "#2a3f5f",
           "arrowhead": 0,
           "arrowwidth": 1
          },
          "autotypenumbers": "strict",
          "coloraxis": {
           "colorbar": {
            "outlinewidth": 0,
            "ticks": ""
           }
          },
          "colorscale": {
           "diverging": [
            [
             0,
             "#8e0152"
            ],
            [
             0.1,
             "#c51b7d"
            ],
            [
             0.2,
             "#de77ae"
            ],
            [
             0.3,
             "#f1b6da"
            ],
            [
             0.4,
             "#fde0ef"
            ],
            [
             0.5,
             "#f7f7f7"
            ],
            [
             0.6,
             "#e6f5d0"
            ],
            [
             0.7,
             "#b8e186"
            ],
            [
             0.8,
             "#7fbc41"
            ],
            [
             0.9,
             "#4d9221"
            ],
            [
             1,
             "#276419"
            ]
           ],
           "sequential": [
            [
             0,
             "#0d0887"
            ],
            [
             0.1111111111111111,
             "#46039f"
            ],
            [
             0.2222222222222222,
             "#7201a8"
            ],
            [
             0.3333333333333333,
             "#9c179e"
            ],
            [
             0.4444444444444444,
             "#bd3786"
            ],
            [
             0.5555555555555556,
             "#d8576b"
            ],
            [
             0.6666666666666666,
             "#ed7953"
            ],
            [
             0.7777777777777778,
             "#fb9f3a"
            ],
            [
             0.8888888888888888,
             "#fdca26"
            ],
            [
             1,
             "#f0f921"
            ]
           ],
           "sequentialminus": [
            [
             0,
             "#0d0887"
            ],
            [
             0.1111111111111111,
             "#46039f"
            ],
            [
             0.2222222222222222,
             "#7201a8"
            ],
            [
             0.3333333333333333,
             "#9c179e"
            ],
            [
             0.4444444444444444,
             "#bd3786"
            ],
            [
             0.5555555555555556,
             "#d8576b"
            ],
            [
             0.6666666666666666,
             "#ed7953"
            ],
            [
             0.7777777777777778,
             "#fb9f3a"
            ],
            [
             0.8888888888888888,
             "#fdca26"
            ],
            [
             1,
             "#f0f921"
            ]
           ]
          },
          "colorway": [
           "#636efa",
           "#EF553B",
           "#00cc96",
           "#ab63fa",
           "#FFA15A",
           "#19d3f3",
           "#FF6692",
           "#B6E880",
           "#FF97FF",
           "#FECB52"
          ],
          "font": {
           "color": "#2a3f5f"
          },
          "geo": {
           "bgcolor": "white",
           "lakecolor": "white",
           "landcolor": "#E5ECF6",
           "showlakes": true,
           "showland": true,
           "subunitcolor": "white"
          },
          "hoverlabel": {
           "align": "left"
          },
          "hovermode": "closest",
          "mapbox": {
           "style": "light"
          },
          "paper_bgcolor": "white",
          "plot_bgcolor": "#E5ECF6",
          "polar": {
           "angularaxis": {
            "gridcolor": "white",
            "linecolor": "white",
            "ticks": ""
           },
           "bgcolor": "#E5ECF6",
           "radialaxis": {
            "gridcolor": "white",
            "linecolor": "white",
            "ticks": ""
           }
          },
          "scene": {
           "xaxis": {
            "backgroundcolor": "#E5ECF6",
            "gridcolor": "white",
            "gridwidth": 2,
            "linecolor": "white",
            "showbackground": true,
            "ticks": "",
            "zerolinecolor": "white"
           },
           "yaxis": {
            "backgroundcolor": "#E5ECF6",
            "gridcolor": "white",
            "gridwidth": 2,
            "linecolor": "white",
            "showbackground": true,
            "ticks": "",
            "zerolinecolor": "white"
           },
           "zaxis": {
            "backgroundcolor": "#E5ECF6",
            "gridcolor": "white",
            "gridwidth": 2,
            "linecolor": "white",
            "showbackground": true,
            "ticks": "",
            "zerolinecolor": "white"
           }
          },
          "shapedefaults": {
           "line": {
            "color": "#2a3f5f"
           }
          },
          "ternary": {
           "aaxis": {
            "gridcolor": "white",
            "linecolor": "white",
            "ticks": ""
           },
           "baxis": {
            "gridcolor": "white",
            "linecolor": "white",
            "ticks": ""
           },
           "bgcolor": "#E5ECF6",
           "caxis": {
            "gridcolor": "white",
            "linecolor": "white",
            "ticks": ""
           }
          },
          "title": {
           "x": 0.05
          },
          "xaxis": {
           "automargin": true,
           "gridcolor": "white",
           "linecolor": "white",
           "ticks": "",
           "title": {
            "standoff": 15
           },
           "zerolinecolor": "white",
           "zerolinewidth": 2
          },
          "yaxis": {
           "automargin": true,
           "gridcolor": "white",
           "linecolor": "white",
           "ticks": "",
           "title": {
            "standoff": 15
           },
           "zerolinecolor": "white",
           "zerolinewidth": 2
          }
         }
        },
        "xaxis": {
         "anchor": "y",
         "domain": [
          0,
          1
         ],
         "title": {
          "text": "mu_hat"
         }
        },
        "yaxis": {
         "anchor": "x",
         "domain": [
          0,
          1
         ],
         "title": {
          "text": "sigma_hat"
         }
        }
       }
      }
     },
     "metadata": {},
     "output_type": "display_data"
    }
   ],
   "source": [
    "color_discrete_map = {\n",
    "    \"1\": 'blue',\n",
    "    \"2\": 'red',\n",
    "}\n",
    "\n",
    "symbol_map = {\n",
    "    \"1\": 'circle',\n",
    "    \"2\": 'x',\n",
    "}\n",
    "\n",
    "fig = px.scatter(\n",
    "    df,\n",
    "    x=\"mu_hat\",\n",
    "    y=\"sigma_hat\",\n",
    "    color=\"label\",\n",
    "    color_discrete_map=color_discrete_map,\n",
    "    symbol='label',\n",
    "    symbol_map=symbol_map,\n",
    "    )\n",
    "fig.update_layout(\n",
    "    plot_bgcolor='white',  # Establece el fondo blanco\n",
    ")"
   ]
  },
  {
   "cell_type": "code",
   "execution_count": 16,
   "metadata": {},
   "outputs": [],
   "source": [
    "q_fisher_information_matrix = q_fisher(df[\"sigma_hat\"].to_numpy(), 2)"
   ]
  },
  {
   "cell_type": "code",
   "execution_count": 17,
   "metadata": {},
   "outputs": [
    {
     "data": {
      "text/plain": [
       "array([[0., 0.],\n",
       "       [0., 0.]])"
      ]
     },
     "execution_count": 17,
     "metadata": {},
     "output_type": "execute_result"
    }
   ],
   "source": [
    "np.zeros((2, 2))"
   ]
  }
 ],
 "metadata": {
  "kernelspec": {
   "display_name": "supervised",
   "language": "python",
   "name": "python3"
  },
  "language_info": {
   "codemirror_mode": {
    "name": "ipython",
    "version": 3
   },
   "file_extension": ".py",
   "mimetype": "text/x-python",
   "name": "python",
   "nbconvert_exporter": "python",
   "pygments_lexer": "ipython3",
   "version": "3.11.5"
  }
 },
 "nbformat": 4,
 "nbformat_minor": 2
}
